{
 "cells": [
  {
   "cell_type": "markdown",
   "metadata": {},
   "source": [
    "# NumPy\n",
    "\n",
    "numpy is python's package for doing math that is more advanced than +-*/\n",
    "\n",
    "This includes special functions like cosine, exponential, sqrt, ...\n",
    "\n",
    "On top of this we can use numpy to generate samples from many types of random variables\n",
    "\n",
    "numpy also has a powerful data type to define vectors, matrices, and tensors\n",
    "\n",
    "With these data types numpy also allows us to do linear algebra - matrix multiplication and matrix-vector solutions"
   ]
  },
  {
   "cell_type": "code",
   "execution_count": 57,
   "metadata": {},
   "outputs": [
    {
     "data": {
      "text/plain": [
       "array([[1, 2, 3],\n",
       "       [4, 5, 6]])"
      ]
     },
     "execution_count": 57,
     "metadata": {},
     "output_type": "execute_result"
    }
   ],
   "source": [
    "mat = np.array([[1,2,3,4,5,6]]).reshape(2,3)\n",
    "mat"
   ]
  },
  {
   "cell_type": "code",
   "execution_count": 3,
   "metadata": {},
   "outputs": [],
   "source": [
    "# the first step of using numpy is to tell python to use it\n",
    "import numpy as np"
   ]
  },
  {
   "cell_type": "code",
   "execution_count": 4,
   "metadata": {},
   "outputs": [
    {
     "name": "stdout",
     "output_type": "stream",
     "text": [
      "-1.0\n",
      "1.1\n",
      "5.2\n"
     ]
    }
   ],
   "source": [
    "print(np.cos(np.pi))\n",
    "print(np.sqrt(1.21))\n",
    "print(np.log(np.exp(5.2)))"
   ]
  },
  {
   "cell_type": "code",
   "execution_count": 5,
   "metadata": {},
   "outputs": [
    {
     "name": "stdout",
     "output_type": "stream",
     "text": [
      "[1 2 3]\n",
      "\n",
      "[[1 2 1]\n",
      " [4 5 9]\n",
      " [1 8 9]]\n",
      "\n",
      "[[1 4 1]\n",
      " [2 5 8]\n",
      " [1 9 9]]\n"
     ]
    }
   ],
   "source": [
    "# we can create numpy arrays by converting lists\n",
    "# this is a vector\n",
    "vec = np.array([1,2,3])\n",
    "print(vec)\n",
    "# we can create matrices by converting lists of lists\n",
    "mat = np.array([[1,2,1],[4,5,9],[1,8,9]])\n",
    "print('')\n",
    "print(mat)\n",
    "print('')\n",
    "print(mat.T)"
   ]
  },
  {
   "cell_type": "code",
   "execution_count": 6,
   "metadata": {},
   "outputs": [
    {
     "name": "stdout",
     "output_type": "stream",
     "text": [
      "[ 0  1  2  3  4  5  6  7  8  9 10 11 12 13 14]\n",
      "\n",
      "[ 3  9 15]\n"
     ]
    }
   ],
   "source": [
    "# there are lots of other ways to create numpy arrays\n",
    "vec2 = np.arange(0,15)\n",
    "print(vec2)\n",
    "print('')\n",
    "vec3 = np.arange(3,21,6)\n",
    "print(vec3)\n"
   ]
  },
  {
   "cell_type": "code",
   "execution_count": 7,
   "metadata": {},
   "outputs": [
    {
     "name": "stdout",
     "output_type": "stream",
     "text": [
      "[0. 1. 2. 3. 4. 5. 6. 7. 8. 9.]\n",
      "\n",
      "[[0. 1.]\n",
      " [2. 3.]\n",
      " [4. 5.]\n",
      " [6. 7.]\n",
      " [8. 9.]]\n",
      "[[0. 1.]\n",
      " [2. 3.]\n",
      " [4. 5.]\n",
      " [6. 7.]\n",
      " [8. 9.]]\n",
      "[0. 1. 2. 3. 4. 5. 6. 7. 8. 9.]\n"
     ]
    }
   ],
   "source": [
    "\n",
    "vec4 = np.linspace(0,9,10)\n",
    "print(vec4)\n",
    "print('')\n",
    "print(vec4.reshape(5,2))\n",
    "vec4_reshaped = vec4.reshape(5,2)\n",
    "print(vec4_reshaped)\n",
    "print(vec4)"
   ]
  },
  {
   "cell_type": "code",
   "execution_count": 16,
   "metadata": {},
   "outputs": [
    {
     "name": "stdout",
     "output_type": "stream",
     "text": [
      "[[0. 0. 0.]\n",
      " [0. 0. 0.]\n",
      " [0. 0. 0.]\n",
      " [0. 0. 0.]\n",
      " [0. 0. 0.]]\n",
      "\n",
      "[[1. 1. 1. 1. 1.]\n",
      " [1. 1. 1. 1. 1.]\n",
      " [1. 1. 1. 1. 1.]]\n",
      "\n",
      "[[1. 0. 0. 0. 0.]\n",
      " [0. 1. 0. 0. 0.]\n",
      " [0. 0. 1. 0. 0.]\n",
      " [0. 0. 0. 1. 0.]\n",
      " [0. 0. 0. 0. 1.]]\n"
     ]
    }
   ],
   "source": [
    "mat2 = np.zeros([5,3])\n",
    "print(mat2)\n",
    "mat3 = np.ones((3,5))\n",
    "print('')\n",
    "print(mat3)\n",
    "mat4 = np.eye(5)\n",
    "print('')\n",
    "print(mat4)"
   ]
  },
  {
   "cell_type": "code",
   "execution_count": 17,
   "metadata": {},
   "outputs": [
    {
     "name": "stdout",
     "output_type": "stream",
     "text": [
      "[1 2 3 4 5]\n",
      "[3 4 5 6 7]\n",
      "[ 4  6  8 10 12]\n",
      "[ 3  8 15 24 35]\n",
      "[1.         0.5        0.33333333 0.25       0.2       ]\n",
      "[1.73205081 2.         2.23606798 2.44948974 2.64575131]\n"
     ]
    }
   ],
   "source": [
    "# we can +-*/ arrays together if they're the right size\n",
    "vec5 = np.arange(1,6)\n",
    "vec6 = np.arange(3,8)\n",
    "print(vec5)\n",
    "print(vec6)\n",
    "print(vec5+vec6)\n",
    "print(vec5*vec6)\n",
    "print(1/vec5)\n",
    "print(np.sqrt(vec6))"
   ]
  },
  {
   "cell_type": "code",
   "execution_count": 18,
   "metadata": {},
   "outputs": [
    {
     "name": "stdout",
     "output_type": "stream",
     "text": [
      "[[1 2 1]\n",
      " [4 5 9]\n",
      " [1 8 9]]\n",
      "\n",
      "[1 2 3]\n",
      "\n",
      "[[ 10  20  28]\n",
      " [ 33 105 130]\n",
      " [ 42 114 154]]\n"
     ]
    }
   ],
   "source": [
    "# we can do matrix multiplication\n",
    "print(mat)\n",
    "print('')\n",
    "print(vec)\n",
    "print()\n",
    "product = np.matmul(mat,mat)\n",
    "print(product)"
   ]
  },
  {
   "cell_type": "code",
   "execution_count": 19,
   "metadata": {},
   "outputs": [
    {
     "name": "stdout",
     "output_type": "stream",
     "text": [
      "[[1. 2. 1.]\n",
      " [4. 5. 9.]\n",
      " [1. 8. 9.]]\n",
      "\n",
      "[[ 0.5         0.18518519 -0.24074074]\n",
      " [ 0.5        -0.14814815  0.09259259]\n",
      " [-0.5         0.11111111  0.05555556]]\n",
      "[[1. 2. 1.]\n",
      " [4. 5. 9.]\n",
      " [1. 8. 9.]]\n"
     ]
    }
   ],
   "source": [
    "print(np.linalg.solve(mat,product))\n",
    "print('')\n",
    "mat5 = np.linalg.inv(mat)\n",
    "print(mat5)\n",
    "print(np.matmul(mat5,product))"
   ]
  },
  {
   "cell_type": "code",
   "execution_count": 20,
   "metadata": {},
   "outputs": [
    {
     "name": "stdout",
     "output_type": "stream",
     "text": [
      "['blue' 'red' 'orange' 'purple' 'purple' 'orange' 'Red' '6']\n",
      "['6' 'Red' 'blue' 'orange' 'purple' 'red']\n"
     ]
    }
   ],
   "source": [
    "# we can find the unique values in an array\n",
    "vec7 = np.array(['blue','red','orange','purple','purple','orange','Red',6])\n",
    "print(vec7)\n",
    "print(np.unique(vec7))"
   ]
  },
  {
   "cell_type": "code",
   "execution_count": 21,
   "metadata": {},
   "outputs": [
    {
     "name": "stdout",
     "output_type": "stream",
     "text": [
      "[[0.30698989 0.77409727 0.48652808 0.42725428 0.18213536]\n",
      " [0.65700648 0.2905624  0.97689239 0.97315315 0.98660056]\n",
      " [0.76578037 0.30661008 0.04812579 0.39116089 0.4454898 ]\n",
      " [0.68007601 0.86726295 0.81696144 0.61089724 0.01390145]\n",
      " [0.19225491 0.59980955 0.18022269 0.0346622  0.77481657]]\n",
      "\n",
      "[[ 1.21695756e+00 -1.18241754e-01 -9.48563952e-01 -1.52649792e+00\n",
      "   4.60932134e-01]\n",
      " [-3.05635602e-01  3.64571400e-01  3.41233059e+00 -1.88684315e-01\n",
      "   8.63644988e-01]\n",
      " [ 1.41127607e+00  1.45332478e+00 -2.81095333e-01  6.81504368e-01\n",
      "  -6.26093855e-01]\n",
      " [ 1.40172516e-01  1.07301711e+00 -1.74393395e-01 -5.89837811e-01\n",
      "  -7.56544591e-01]\n",
      " [-8.04377659e-01 -1.45935901e+00  5.93375795e-01 -1.14962623e+00\n",
      "   6.11237207e-01]\n",
      " [ 2.58666004e-01  2.14524081e+00 -3.25760557e-01  8.31785062e-03\n",
      "   1.74812453e+00]\n",
      " [-8.39316076e-01 -5.23431497e-01 -6.84859388e-01  1.01522307e+00\n",
      "   1.98293087e-01]\n",
      " [-7.40300803e-01  2.37963283e-03 -6.01001789e-01 -3.13229859e-01\n",
      "   9.01815999e-01]\n",
      " [-4.94779105e-01 -3.12077339e-01  1.63416944e+00  2.41728531e-01\n",
      "   1.48447097e+00]\n",
      " [ 1.20182860e+00  1.23983295e+00  7.09147271e-01  3.77033719e-01\n",
      "  -1.20061656e+00]]\n"
     ]
    }
   ],
   "source": [
    "# we can also use numpy to generate samples of a random variable\n",
    "rand_mat = np.random.rand(5,5) # uniform random variable\n",
    "print(rand_mat)\n",
    "rand_mat2 = np.random.randn(10,5) # standard normal random variable\n",
    "print('')\n",
    "print(rand_mat2)"
   ]
  },
  {
   "cell_type": "code",
   "execution_count": 22,
   "metadata": {},
   "outputs": [
    {
     "name": "stdout",
     "output_type": "stream",
     "text": [
      "0.5115700716590206\n",
      "0.9988793075666763\n"
     ]
    }
   ],
   "source": [
    "# we can also use numpy for statistical tools on arrays\n",
    "print(np.mean(rand_mat))\n",
    "print(np.std(rand_mat2))"
   ]
  },
  {
   "cell_type": "code",
   "execution_count": 23,
   "metadata": {},
   "outputs": [
    {
     "name": "stdout",
     "output_type": "stream",
     "text": [
      "0.01390145072096649\n",
      "3.41233059195473\n"
     ]
    }
   ],
   "source": [
    "print(np.min(rand_mat))\n",
    "print(np.max(rand_mat2))"
   ]
  },
  {
   "cell_type": "code",
   "execution_count": 24,
   "metadata": {},
   "outputs": [],
   "source": [
    "# break here for next video!"
   ]
  },
  {
   "cell_type": "code",
   "execution_count": 25,
   "metadata": {},
   "outputs": [
    {
     "name": "stdout",
     "output_type": "stream",
     "text": [
      "[ 0.33151922  0.61175809 -1.04881602  0.8204043  -0.84512561  0.98925304\n",
      "  1.04673877  0.83416121  0.30278809  1.55889453 -0.40725985  0.28619714\n",
      "  0.74521579 -0.41329877 -0.40419343 -0.07294411  2.12135945  0.40525123\n",
      " -1.27204849]\n",
      "1.0467387681338518\n"
     ]
    }
   ],
   "source": [
    "# how do we access entries in a numpy vector\n",
    "rand_vec = np.random.randn(19)\n",
    "print(rand_vec)\n",
    "print(rand_vec[6])"
   ]
  },
  {
   "cell_type": "code",
   "execution_count": 26,
   "metadata": {},
   "outputs": [
    {
     "name": "stdout",
     "output_type": "stream",
     "text": [
      "[-0.84512561  0.98925304  1.04673877  0.83416121  0.30278809]\n"
     ]
    }
   ],
   "source": [
    "# we can access multiple entries at once using :\n",
    "print(rand_vec[4:9])"
   ]
  },
  {
   "cell_type": "code",
   "execution_count": 27,
   "metadata": {},
   "outputs": [
    {
     "name": "stdout",
     "output_type": "stream",
     "text": [
      "[ 0  3  6  9 12]\n",
      "[0.33151922 0.8204043  1.04673877 1.55889453 0.74521579]\n"
     ]
    }
   ],
   "source": [
    "# we can also access multiple non-consecutive entries using np.arange\n",
    "print(np.arange(0,15,3))\n",
    "print(rand_vec[np.arange(0,15,3)])"
   ]
  },
  {
   "cell_type": "code",
   "execution_count": 28,
   "metadata": {},
   "outputs": [
    {
     "name": "stdout",
     "output_type": "stream",
     "text": [
      "[[0.30698989 0.77409727 0.48652808 0.42725428 0.18213536]\n",
      " [0.65700648 0.2905624  0.97689239 0.97315315 0.98660056]\n",
      " [0.76578037 0.30661008 0.04812579 0.39116089 0.4454898 ]\n",
      " [0.68007601 0.86726295 0.81696144 0.61089724 0.01390145]\n",
      " [0.19225491 0.59980955 0.18022269 0.0346622  0.77481657]]\n",
      "0.9768923854097535\n",
      "0.9768923854097535\n"
     ]
    }
   ],
   "source": [
    "# what about matrices\n",
    "print(rand_mat)\n",
    "print(rand_mat[1][2])\n",
    "print(rand_mat[1,2])\n"
   ]
  },
  {
   "cell_type": "code",
   "execution_count": 29,
   "metadata": {},
   "outputs": [
    {
     "name": "stdout",
     "output_type": "stream",
     "text": [
      "[[0.77409727 0.48652808]\n",
      " [0.2905624  0.97689239]]\n"
     ]
    }
   ],
   "source": [
    "print(rand_mat[0:2,1:3])"
   ]
  },
  {
   "cell_type": "code",
   "execution_count": 30,
   "metadata": {},
   "outputs": [
    {
     "name": "stdout",
     "output_type": "stream",
     "text": [
      "[ 0.33151922  0.61175809 -1.04881602  0.8204043  -0.84512561  0.98925304\n",
      "  1.04673877  0.83416121  0.30278809  1.55889453 -0.40725985  0.28619714\n",
      "  0.74521579 -0.41329877 -0.40419343 -0.07294411  2.12135945  0.40525123\n",
      " -1.27204849]\n",
      "\n",
      "[ 0.33151922  0.61175809 -1.04881602  4.          4.          0.98925304\n",
      "  1.04673877  0.83416121  0.30278809  1.55889453 -0.40725985  0.28619714\n",
      "  0.74521579 -0.41329877 -0.40419343 -0.07294411  2.12135945  0.40525123\n",
      " -1.27204849]\n",
      "\n",
      "[ 0.33151922  0.61175809 -1.04881602  1.          2.          0.98925304\n",
      "  1.04673877  0.83416121  0.30278809  1.55889453 -0.40725985  0.28619714\n",
      "  0.74521579 -0.41329877 -0.40419343 -0.07294411  2.12135945  0.40525123\n",
      " -1.27204849]\n"
     ]
    }
   ],
   "source": [
    "# let's change some values in an array!\n",
    "print(rand_vec)\n",
    "rand_vec[3:5] = 4\n",
    "print('')\n",
    "print(rand_vec)\n",
    "rand_vec[3:5] = [1,2]\n",
    "print('')\n",
    "print(rand_vec)"
   ]
  },
  {
   "cell_type": "code",
   "execution_count": 31,
   "metadata": {},
   "outputs": [
    {
     "name": "stdout",
     "output_type": "stream",
     "text": [
      "[[0.30698989 0.77409727 0.48652808 0.42725428 0.18213536]\n",
      " [0.65700648 0.2905624  0.97689239 0.97315315 0.98660056]\n",
      " [0.76578037 0.30661008 0.04812579 0.39116089 0.4454898 ]\n",
      " [0.68007601 0.86726295 0.81696144 0.61089724 0.01390145]\n",
      " [0.19225491 0.59980955 0.18022269 0.0346622  0.77481657]]\n",
      "\n",
      "[[0.30698989 0.77409727 0.48652808 0.42725428 0.18213536]\n",
      " [0.65700648 0.2905624  0.97689239 0.         0.        ]\n",
      " [0.76578037 0.30661008 0.04812579 0.         0.        ]\n",
      " [0.68007601 0.86726295 0.81696144 0.61089724 0.01390145]\n",
      " [0.19225491 0.59980955 0.18022269 0.0346622  0.77481657]]\n"
     ]
    }
   ],
   "source": [
    "print(rand_mat)\n",
    "rand_mat[1:3,3:5] = 0\n",
    "print('')\n",
    "print(rand_mat)"
   ]
  },
  {
   "cell_type": "code",
   "execution_count": 32,
   "metadata": {},
   "outputs": [
    {
     "name": "stdout",
     "output_type": "stream",
     "text": [
      "[[0.30698989 0.77409727 0.48652808]\n",
      " [0.65700648 0.2905624  0.97689239]]\n",
      "[[5. 5. 5.]]\n",
      "[[0.30698989 0.77409727 0.48652808 0.42725428 0.18213536]\n",
      " [0.65700648 0.2905624  0.97689239 0.         0.        ]\n",
      " [0.76578037 0.30661008 0.04812579 0.         0.        ]\n",
      " [0.68007601 0.86726295 0.81696144 0.61089724 0.01390145]\n",
      " [0.19225491 0.59980955 0.18022269 0.0346622  0.77481657]]\n"
     ]
    }
   ],
   "source": [
    "sub_mat = rand_mat[0:2,0:3].copy()\n",
    "print(sub_mat)\n",
    "sub_mat[1:,:] = 5\n",
    "print(sub_mat[1:,:])\n",
    "print(rand_mat)"
   ]
  },
  {
   "cell_type": "code",
   "execution_count": 33,
   "metadata": {},
   "outputs": [
    {
     "name": "stdout",
     "output_type": "stream",
     "text": [
      "[[0.30698989 0.77409727 0.48652808 0.42725428 0.18213536]\n",
      " [0.65700648 0.2905624  0.97689239 0.         0.        ]\n",
      " [0.76578037 0.30661008 0.04812579 0.         0.        ]\n",
      " [0.68007601 0.86726295 0.81696144 0.61089724 0.01390145]\n",
      " [0.19225491 0.59980955 0.18022269 0.0346622  0.77481657]]\n"
     ]
    }
   ],
   "source": [
    "print(rand_mat)"
   ]
  },
  {
   "cell_type": "code",
   "execution_count": 34,
   "metadata": {},
   "outputs": [
    {
     "name": "stdout",
     "output_type": "stream",
     "text": [
      "[[99. 99. 99.]\n",
      " [99. 99. 99.]]\n",
      "[[0.30698989 0.77409727 0.48652808 0.42725428 0.18213536]\n",
      " [0.65700648 0.2905624  0.97689239 0.         0.        ]\n",
      " [0.76578037 0.30661008 0.04812579 0.         0.        ]\n",
      " [0.68007601 0.86726295 0.81696144 0.61089724 0.01390145]\n",
      " [0.19225491 0.59980955 0.18022269 0.0346622  0.77481657]]\n"
     ]
    }
   ],
   "source": [
    "sub_mat2 = rand_mat[0:2,0:3].copy()\n",
    "sub_mat2[:] = 99\n",
    "print(sub_mat2)\n",
    "print(rand_mat)\n"
   ]
  },
  {
   "cell_type": "code",
   "execution_count": 35,
   "metadata": {},
   "outputs": [],
   "source": [
    "# break here for next video"
   ]
  },
  {
   "cell_type": "code",
   "execution_count": 41,
   "metadata": {},
   "outputs": [
    {
     "name": "stdout",
     "output_type": "stream",
     "text": [
      "[ 1.04058708 -2.3349818  -1.03888703  0.11749493 -0.73591438 -0.92675233\n",
      " -0.25083125  0.21534192 -1.13688662  1.70260771  0.34433183 -0.24784786\n",
      "  0.83691146 -0.49202802  0.03500588]\n",
      "[ True False False  True False False False  True False  True  True False\n",
      "  True False  True]\n",
      "[1.04058708 0.11749493 0.21534192 1.70260771 0.34433183 0.83691146\n",
      " 0.03500588]\n"
     ]
    }
   ],
   "source": [
    "# we can also access entries with logicals\n",
    "rand_vec = np.random.randn(15)\n",
    "\n",
    "print(rand_vec)\n",
    "print(rand_vec>0)\n",
    "print(rand_vec[rand_vec>0])"
   ]
  },
  {
   "cell_type": "code",
   "execution_count": 42,
   "metadata": {},
   "outputs": [
    {
     "name": "stdout",
     "output_type": "stream",
     "text": [
      "[[ 1.21695756e+00 -1.18241754e-01 -9.48563952e-01 -1.52649792e+00\n",
      "   4.60932134e-01]\n",
      " [-3.05635602e-01  3.64571400e-01  3.41233059e+00 -1.88684315e-01\n",
      "   8.63644988e-01]\n",
      " [ 1.41127607e+00  1.45332478e+00 -2.81095333e-01  6.81504368e-01\n",
      "  -6.26093855e-01]\n",
      " [ 1.40172516e-01  1.07301711e+00 -1.74393395e-01 -5.89837811e-01\n",
      "  -7.56544591e-01]\n",
      " [-8.04377659e-01 -1.45935901e+00  5.93375795e-01 -1.14962623e+00\n",
      "   6.11237207e-01]\n",
      " [ 2.58666004e-01  2.14524081e+00 -3.25760557e-01  8.31785062e-03\n",
      "   1.74812453e+00]\n",
      " [-8.39316076e-01 -5.23431497e-01 -6.84859388e-01  1.01522307e+00\n",
      "   1.98293087e-01]\n",
      " [-7.40300803e-01  2.37963283e-03 -6.01001789e-01 -3.13229859e-01\n",
      "   9.01815999e-01]\n",
      " [-4.94779105e-01 -3.12077339e-01  1.63416944e+00  2.41728531e-01\n",
      "   1.48447097e+00]\n",
      " [ 1.20182860e+00  1.23983295e+00  7.09147271e-01  3.77033719e-01\n",
      "  -1.20061656e+00]]\n",
      "[1.21695756e+00 4.60932134e-01 3.64571400e-01 3.41233059e+00\n",
      " 8.63644988e-01 1.41127607e+00 1.45332478e+00 6.81504368e-01\n",
      " 1.40172516e-01 1.07301711e+00 5.93375795e-01 6.11237207e-01\n",
      " 2.58666004e-01 2.14524081e+00 8.31785062e-03 1.74812453e+00\n",
      " 1.01522307e+00 1.98293087e-01 2.37963283e-03 9.01815999e-01\n",
      " 1.63416944e+00 2.41728531e-01 1.48447097e+00 1.20182860e+00\n",
      " 1.23983295e+00 7.09147271e-01 3.77033719e-01]\n"
     ]
    }
   ],
   "source": [
    "print(rand_mat2)\n",
    "print(rand_mat2[rand_mat2>0])"
   ]
  },
  {
   "cell_type": "code",
   "execution_count": 43,
   "metadata": {},
   "outputs": [
    {
     "name": "stdout",
     "output_type": "stream",
     "text": [
      "[ 1.04058708 -2.3349818  -1.03888703  0.11749493 -0.73591438 -0.92675233\n",
      " -0.25083125  0.21534192 -1.13688662  1.70260771  0.34433183 -0.24784786\n",
      "  0.83691146 -0.49202802  0.03500588]\n",
      "\n",
      "[-5.         -2.3349818  -1.03888703  0.11749493 -0.73591438 -0.92675233\n",
      " -0.25083125  0.21534192 -1.13688662 -5.          0.34433183 -0.24784786\n",
      " -5.         -0.49202802  0.03500588]\n"
     ]
    }
   ],
   "source": [
    "\n",
    "print(rand_vec)\n",
    "print('')\n",
    "rand_vec[rand_vec>0.5] = -5\n",
    "print(rand_vec)"
   ]
  },
  {
   "cell_type": "code",
   "execution_count": 44,
   "metadata": {},
   "outputs": [],
   "source": [
    "# let's save some arrays on the disk for use later!\n",
    "np.save('saved_file_name',rand_mat2)\n"
   ]
  },
  {
   "cell_type": "code",
   "execution_count": 51,
   "metadata": {},
   "outputs": [],
   "source": [
    "np.savez('zipped_file_name',rand_mat=rand_mat,rand_mat2=rand_mat2)"
   ]
  },
  {
   "cell_type": "code",
   "execution_count": 52,
   "metadata": {},
   "outputs": [
    {
     "name": "stdout",
     "output_type": "stream",
     "text": [
      "<numpy.lib.npyio.NpzFile object at 0x000001CBC5EA4820>\n"
     ]
    }
   ],
   "source": [
    "# now let's load it\n",
    "loaded_vec = np.load('saved_file_name.npy')\n",
    "loaded_zip = np.load('zipped_file_name.npz')\n",
    "\n",
    "#print(loaded_vec)\n",
    "#print('')\n",
    "print(loaded_zip)"
   ]
  },
  {
   "cell_type": "code",
   "execution_count": 53,
   "metadata": {},
   "outputs": [
    {
     "name": "stdout",
     "output_type": "stream",
     "text": [
      "[[0.30698989 0.77409727 0.48652808 0.42725428 0.18213536]\n",
      " [0.65700648 0.2905624  0.97689239 0.         0.        ]\n",
      " [0.76578037 0.30661008 0.04812579 0.         0.        ]\n",
      " [0.68007601 0.86726295 0.81696144 0.61089724 0.01390145]\n",
      " [0.19225491 0.59980955 0.18022269 0.0346622  0.77481657]]\n",
      "\n",
      "[[ 1.21695756e+00 -1.18241754e-01 -9.48563952e-01 -1.52649792e+00\n",
      "   4.60932134e-01]\n",
      " [-3.05635602e-01  3.64571400e-01  3.41233059e+00 -1.88684315e-01\n",
      "   8.63644988e-01]\n",
      " [ 1.41127607e+00  1.45332478e+00 -2.81095333e-01  6.81504368e-01\n",
      "  -6.26093855e-01]\n",
      " [ 1.40172516e-01  1.07301711e+00 -1.74393395e-01 -5.89837811e-01\n",
      "  -7.56544591e-01]\n",
      " [-8.04377659e-01 -1.45935901e+00  5.93375795e-01 -1.14962623e+00\n",
      "   6.11237207e-01]\n",
      " [ 2.58666004e-01  2.14524081e+00 -3.25760557e-01  8.31785062e-03\n",
      "   1.74812453e+00]\n",
      " [-8.39316076e-01 -5.23431497e-01 -6.84859388e-01  1.01522307e+00\n",
      "   1.98293087e-01]\n",
      " [-7.40300803e-01  2.37963283e-03 -6.01001789e-01 -3.13229859e-01\n",
      "   9.01815999e-01]\n",
      " [-4.94779105e-01 -3.12077339e-01  1.63416944e+00  2.41728531e-01\n",
      "   1.48447097e+00]\n",
      " [ 1.20182860e+00  1.23983295e+00  7.09147271e-01  3.77033719e-01\n",
      "  -1.20061656e+00]]\n",
      "[[0.30698989 0.77409727 0.48652808 0.42725428 0.18213536]\n",
      " [0.65700648 0.2905624  0.97689239 0.         0.        ]\n",
      " [0.76578037 0.30661008 0.04812579 0.         0.        ]\n",
      " [0.68007601 0.86726295 0.81696144 0.61089724 0.01390145]\n",
      " [0.19225491 0.59980955 0.18022269 0.0346622  0.77481657]]\n"
     ]
    }
   ],
   "source": [
    "print(loaded_zip['rand_mat'])\n",
    "print('')\n",
    "print(loaded_zip['rand_mat2'])\n",
    "\n",
    "new_array  = loaded_zip['rand_mat']\n",
    "print(new_array)"
   ]
  },
  {
   "cell_type": "code",
   "execution_count": 54,
   "metadata": {},
   "outputs": [
    {
     "name": "stdout",
     "output_type": "stream",
     "text": [
      "[[0.30698989 0.77409727 0.48652808 0.42725428 0.18213536]\n",
      " [0.65700648 0.2905624  0.97689239 0.         0.        ]\n",
      " [0.76578037 0.30661008 0.04812579 0.         0.        ]\n",
      " [0.68007601 0.86726295 0.81696144 0.61089724 0.01390145]\n",
      " [0.19225491 0.59980955 0.18022269 0.0346622  0.77481657]]\n",
      "\n",
      "[[0.30698989 0.77409727 0.48652808 0.42725428 0.18213536]\n",
      " [0.65700648 0.2905624  0.97689239 0.         0.        ]\n",
      " [0.76578037 0.30661008 0.04812579 0.         0.        ]\n",
      " [0.68007601 0.86726295 0.81696144 0.61089724 0.01390145]\n",
      " [0.19225491 0.59980955 0.18022269 0.0346622  0.77481657]]\n"
     ]
    }
   ],
   "source": [
    "# we can also save/load as text files...but only single variables\n",
    "np.savetxt('text_file_name.txt',rand_mat,delimiter=',')\n",
    "rand_mat_txt = np.loadtxt('text_file_name.txt',delimiter=',')\n",
    "print(rand_mat)\n",
    "print('')\n",
    "print(rand_mat_txt)"
   ]
  },
  {
   "cell_type": "code",
   "execution_count": null,
   "metadata": {},
   "outputs": [],
   "source": []
  }
 ],
 "metadata": {
  "kernelspec": {
   "display_name": "Python 3",
   "language": "python",
   "name": "python3"
  },
  "language_info": {
   "codemirror_mode": {
    "name": "ipython",
    "version": 3
   },
   "file_extension": ".py",
   "mimetype": "text/x-python",
   "name": "python",
   "nbconvert_exporter": "python",
   "pygments_lexer": "ipython3",
   "version": "3.8.5"
  }
 },
 "nbformat": 4,
 "nbformat_minor": 2
}
